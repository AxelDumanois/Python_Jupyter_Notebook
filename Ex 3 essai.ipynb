{
 "cells": [
  {
   "cell_type": "code",
   "execution_count": null,
   "metadata": {},
   "outputs": [
    {
     "name": "stdout",
     "output_type": "stream",
     "text": [
      "Veuillez saisir le note n° 1\n"
     ]
    }
   ],
   "source": [
    "import os\n",
    " \n",
    "notes = []\n",
    "coef = 0\n",
    "divis = 1\n",
    "siChCoef = False\n",
    " \n",
    "def nm(notes, divis, coef):\n",
    "    print(notes, divis, coef)\n",
    "    bfr = 0\n",
    "    divis -= 1\n",
    "    for i in range(0, divis):\n",
    "        bfr += notes[i]\n",
    "    bfrR = float(bfr) / float(coef)\n",
    "    return bfrR;\n",
    " \n",
    "while True:\n",
    "    print(\"Veuillez saisir le note n°\", divis)\n",
    "    rep = input()\n",
    "    if(divis > 2):\n",
    "        if(rep == \"calc\"):\n",
    "            res = nm(notes, divis, coef)\n",
    "            print(\"Votre moyenne est de : \", res)\n",
    "            break\n",
    "    if(divis <= 2 and rep == \"calc\"):\n",
    "        print(\"Vous ne pouvez pas faire une moyene avec une note!\")\n",
    "    else:\n",
    "        try:\n",
    "            if(rep == \"coef\"):\n",
    "                rep = input(\"Veuillez entrez la note: \")\n",
    "                coefrep = input(\"Veuillez entrez le coef:\")\n",
    "                rep = float(rep) * float(coefrep)\n",
    "                siChCoef = True\n",
    "                coef += float(coefrep)\n",
    "            autre = input(\"La notes est elle sur un autre diviseur que sur 20?(O/n)\")\n",
    "            if(autre == \"O\" or autre == \"o\"):\n",
    "                divisch = input(\"Veuillez entrez le diviseur actuelle: \")\n",
    "                rep = float(rep) * 20 / float(divisch)\n",
    "            test = float(rep)\n",
    "            if(siChCoef == False):\n",
    "                coef += 1\n",
    "            else:\n",
    "                siChCoef = False\n",
    "            divis += 1\n",
    "            notes.append(float(rep))\n",
    "        except:\n",
    "            print(\"Veuillez entrez des nombres valides svp ;-)\")\n",
    "os.system(\"pause\")"
   ]
  },
  {
   "cell_type": "code",
   "execution_count": null,
   "metadata": {},
   "outputs": [],
   "source": []
  }
 ],
 "metadata": {
  "kernelspec": {
   "display_name": "Python 3",
   "language": "python",
   "name": "python3"
  },
  "language_info": {
   "codemirror_mode": {
    "name": "ipython",
    "version": 3
   },
   "file_extension": ".py",
   "mimetype": "text/x-python",
   "name": "python",
   "nbconvert_exporter": "python",
   "pygments_lexer": "ipython3",
   "version": "3.7.0"
  }
 },
 "nbformat": 4,
 "nbformat_minor": 2
}
