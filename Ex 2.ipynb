{
 "cells": [
  {
   "cell_type": "code",
   "execution_count": 2,
   "metadata": {},
   "outputs": [
    {
     "name": "stdout",
     "output_type": "stream",
     "text": [
      "Entrez nombre : 1880\n",
      "1880  n'est pas un palindrome\n"
     ]
    }
   ],
   "source": [
    "def Palindrome(n):\n",
    "    num = n\n",
    "    d = 0\n",
    "    rev = 0\n",
    "    while n > 0:\n",
    "        d = n % 10\n",
    "        n = int(n / 10)\n",
    "        rev = rev * 10 + d\n",
    "    if (num == rev):\n",
    "        return True\n",
    "    else: \n",
    "        return False\n",
    "\n",
    "x = int(input(\"Entrez nombre : \"))\n",
    "if Palindrome(x): \n",
    "    print(x, \" est un palindrome\")\n",
    "else:\n",
    "    print(x, \" n'est pas un palindrome\")"
   ]
  },
  {
   "cell_type": "code",
   "execution_count": null,
   "metadata": {},
   "outputs": [],
   "source": []
  }
 ],
 "metadata": {
  "kernelspec": {
   "display_name": "Python 3",
   "language": "python",
   "name": "python3"
  },
  "language_info": {
   "codemirror_mode": {
    "name": "ipython",
    "version": 3
   },
   "file_extension": ".py",
   "mimetype": "text/x-python",
   "name": "python",
   "nbconvert_exporter": "python",
   "pygments_lexer": "ipython3",
   "version": "3.7.0"
  }
 },
 "nbformat": 4,
 "nbformat_minor": 2
}
